{
 "metadata": {
  "name": "",
  "signature": "sha256:1cadc63347fb15575935feb886867aef2fc011d38478017a1b20fc3670699ee2"
 },
 "nbformat": 3,
 "nbformat_minor": 0,
 "worksheets": [
  {
   "cells": [
    {
     "cell_type": "code",
     "collapsed": false,
     "input": [],
     "language": "python",
     "metadata": {},
     "outputs": []
    }
   ],
   "metadata": {}
  }
 ]
}